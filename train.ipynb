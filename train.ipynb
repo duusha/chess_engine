{
  "nbformat": 4,
  "nbformat_minor": 0,
  "metadata": {
    "colab": {
      "provenance": [],
      "gpuType": "V28"
    },
    "kernelspec": {
      "name": "python3",
      "display_name": "Python 3"
    },
    "language_info": {
      "name": "python"
    },
    "accelerator": "TPU"
  },
  "cells": [
    {
      "cell_type": "code",
      "source": [
        "!wget -O arch.pgn.zst https://database.lichess.org/standard/lichess_db_standard_rated_2015-09.pgn.zst"
      ],
      "metadata": {
        "colab": {
          "base_uri": "https://localhost:8080/"
        },
        "id": "MyPZIfE2IKMe",
        "outputId": "0b1aefc2-f2c4-4368-acff-d73148473a7a"
      },
      "execution_count": 2,
      "outputs": [
        {
          "output_type": "stream",
          "name": "stdout",
          "text": [
            "--2024-10-09 18:33:07--  https://database.lichess.org/standard/lichess_db_standard_rated_2015-09.pgn.zst\n",
            "Resolving database.lichess.org (database.lichess.org)... 141.95.66.62, 2001:41d0:700:5e3e::\n",
            "Connecting to database.lichess.org (database.lichess.org)|141.95.66.62|:443... connected.\n",
            "HTTP request sent, awaiting response... 200 OK\n",
            "Length: 547459020 (522M) [application/octet-stream]\n",
            "Saving to: ‘arch.pgn.zst’\n",
            "\n",
            "arch.pgn.zst        100%[===================>] 522.10M  25.8MB/s    in 21s     \n",
            "\n",
            "2024-10-09 18:33:29 (24.8 MB/s) - ‘arch.pgn.zst’ saved [547459020/547459020]\n",
            "\n"
          ]
        }
      ]
    },
    {
      "cell_type": "code",
      "source": [
        "!apt-get install zstd"
      ],
      "metadata": {
        "colab": {
          "base_uri": "https://localhost:8080/"
        },
        "id": "RmyUQH-vITst",
        "outputId": "2e400cf8-f323-4615-c3d0-fd6b732a8fcf"
      },
      "execution_count": 3,
      "outputs": [
        {
          "output_type": "stream",
          "name": "stdout",
          "text": [
            "Reading package lists... Done\n",
            "Building dependency tree... Done\n",
            "Reading state information... Done\n",
            "The following NEW packages will be installed:\n",
            "  zstd\n",
            "0 upgraded, 1 newly installed, 0 to remove and 0 not upgraded.\n",
            "Need to get 603 kB of archives.\n",
            "After this operation, 1,695 kB of additional disk space will be used.\n",
            "Get:1 http://archive.ubuntu.com/ubuntu jammy/main amd64 zstd amd64 1.4.8+dfsg-3build1 [603 kB]\n",
            "Fetched 603 kB in 1s (594 kB/s)\n",
            "Selecting previously unselected package zstd.\n",
            "(Reading database ... 119626 files and directories currently installed.)\n",
            "Preparing to unpack .../zstd_1.4.8+dfsg-3build1_amd64.deb ...\n",
            "Unpacking zstd (1.4.8+dfsg-3build1) ...\n",
            "Setting up zstd (1.4.8+dfsg-3build1) ...\n",
            "Processing triggers for man-db (2.10.2-1) ...\n"
          ]
        }
      ]
    },
    {
      "cell_type": "code",
      "source": [
        "!unzstd arch.pgn.zst"
      ],
      "metadata": {
        "colab": {
          "base_uri": "https://localhost:8080/"
        },
        "id": "2R9xh8i3JsN5",
        "outputId": "2803f9f4-d4d0-43e7-90a1-2b84caf7ac69"
      },
      "execution_count": 4,
      "outputs": [
        {
          "output_type": "stream",
          "name": "stdout",
          "text": [
            "arch.pgn.zst        : 2903022236 bytes \n"
          ]
        }
      ]
    },
    {
      "cell_type": "code",
      "source": [
        "!wget https://github.com/duusha/chess_engine/raw/main/auxiliary_func.py\n",
        "!wget https://github.com/duusha/chess_engine/raw/main/dataset.py\n",
        "!wget https://github.com/duusha/chess_engine/raw/main/model.py\n",
        "\n"
      ],
      "metadata": {
        "colab": {
          "base_uri": "https://localhost:8080/"
        },
        "id": "kxxghH0hL-CP",
        "outputId": "01770a86-fe69-4b2d-a3b5-9c28fba0e0e6"
      },
      "execution_count": 5,
      "outputs": [
        {
          "output_type": "stream",
          "name": "stdout",
          "text": [
            "--2024-10-09 18:33:45--  https://github.com/duusha/chess_engine/raw/main/auxiliary_func.py\n",
            "Resolving github.com (github.com)... 140.82.113.3\n",
            "Connecting to github.com (github.com)|140.82.113.3|:443... connected.\n",
            "HTTP request sent, awaiting response... 302 Found\n",
            "Location: https://raw.githubusercontent.com/duusha/chess_engine/main/auxiliary_func.py [following]\n",
            "--2024-10-09 18:33:45--  https://raw.githubusercontent.com/duusha/chess_engine/main/auxiliary_func.py\n",
            "Resolving raw.githubusercontent.com (raw.githubusercontent.com)... 185.199.108.133, 185.199.110.133, 185.199.111.133, ...\n",
            "Connecting to raw.githubusercontent.com (raw.githubusercontent.com)|185.199.108.133|:443... connected.\n",
            "HTTP request sent, awaiting response... 200 OK\n",
            "Length: 1443 (1.4K) [text/plain]\n",
            "Saving to: ‘auxiliary_func.py’\n",
            "\n",
            "auxiliary_func.py   100%[===================>]   1.41K  --.-KB/s    in 0s      \n",
            "\n",
            "2024-10-09 18:33:45 (32.5 MB/s) - ‘auxiliary_func.py’ saved [1443/1443]\n",
            "\n",
            "--2024-10-09 18:33:46--  https://github.com/duusha/chess_engine/raw/main/dataset.py\n",
            "Resolving github.com (github.com)... 140.82.113.3\n",
            "Connecting to github.com (github.com)|140.82.113.3|:443... connected.\n",
            "HTTP request sent, awaiting response... 302 Found\n",
            "Location: https://raw.githubusercontent.com/duusha/chess_engine/main/dataset.py [following]\n",
            "--2024-10-09 18:33:46--  https://raw.githubusercontent.com/duusha/chess_engine/main/dataset.py\n",
            "Resolving raw.githubusercontent.com (raw.githubusercontent.com)... 185.199.111.133, 185.199.108.133, 185.199.109.133, ...\n",
            "Connecting to raw.githubusercontent.com (raw.githubusercontent.com)|185.199.111.133|:443... connected.\n",
            "HTTP request sent, awaiting response... 200 OK\n",
            "Length: 277 [text/plain]\n",
            "Saving to: ‘dataset.py’\n",
            "\n",
            "dataset.py          100%[===================>]     277  --.-KB/s    in 0s      \n",
            "\n",
            "2024-10-09 18:33:46 (9.10 MB/s) - ‘dataset.py’ saved [277/277]\n",
            "\n",
            "--2024-10-09 18:33:46--  https://github.com/duusha/chess_engine/raw/main/model.py\n",
            "Resolving github.com (github.com)... 140.82.113.3\n",
            "Connecting to github.com (github.com)|140.82.113.3|:443... connected.\n",
            "HTTP request sent, awaiting response... 302 Found\n",
            "Location: https://raw.githubusercontent.com/duusha/chess_engine/main/model.py [following]\n",
            "--2024-10-09 18:33:46--  https://raw.githubusercontent.com/duusha/chess_engine/main/model.py\n",
            "Resolving raw.githubusercontent.com (raw.githubusercontent.com)... 185.199.108.133, 185.199.109.133, 185.199.110.133, ...\n",
            "Connecting to raw.githubusercontent.com (raw.githubusercontent.com)|185.199.108.133|:443... connected.\n",
            "HTTP request sent, awaiting response... 200 OK\n",
            "Length: 2309 (2.3K) [text/plain]\n",
            "Saving to: ‘model.py’\n",
            "\n",
            "model.py            100%[===================>]   2.25K  --.-KB/s    in 0s      \n",
            "\n",
            "2024-10-09 18:33:46 (50.5 MB/s) - ‘model.py’ saved [2309/2309]\n",
            "\n"
          ]
        }
      ]
    },
    {
      "cell_type": "code",
      "source": [
        "!pip install chess"
      ],
      "metadata": {
        "colab": {
          "base_uri": "https://localhost:8080/"
        },
        "id": "Pzgg2QSBN3Lf",
        "outputId": "3fb1f79a-2d4c-43ff-d381-2b07ce0decb4"
      },
      "execution_count": 6,
      "outputs": [
        {
          "output_type": "stream",
          "name": "stdout",
          "text": [
            "Collecting chess\n",
            "  Downloading chess-1.11.1.tar.gz (156 kB)\n",
            "\u001b[?25l     \u001b[90m━━━━━━━━━━━━━━━━━━━━━━━━━━━━━━━━━━━━━━━━\u001b[0m \u001b[32m0.0/156.5 kB\u001b[0m \u001b[31m?\u001b[0m eta \u001b[36m-:--:--\u001b[0m\r\u001b[2K     \u001b[91m━━━━━━━━━━━━━━━━━━━━━━━━━━━━━━━━━━━━━━━\u001b[0m\u001b[90m╺\u001b[0m \u001b[32m153.6/156.5 kB\u001b[0m \u001b[31m5.5 MB/s\u001b[0m eta \u001b[36m0:00:01\u001b[0m\r\u001b[2K     \u001b[90m━━━━━━━━━━━━━━━━━━━━━━━━━━━━━━━━━━━━━━━━\u001b[0m \u001b[32m156.5/156.5 kB\u001b[0m \u001b[31m3.8 MB/s\u001b[0m eta \u001b[36m0:00:00\u001b[0m\n",
            "\u001b[?25h  Preparing metadata (setup.py) ... \u001b[?25l\u001b[?25hdone\n",
            "Building wheels for collected packages: chess\n",
            "  Building wheel for chess (setup.py) ... \u001b[?25l\u001b[?25hdone\n",
            "  Created wheel for chess: filename=chess-1.11.1-py3-none-any.whl size=148499 sha256=c50d4f7fa345e5832ab51df80fb47bd1771095ffc61ff17dd487913219294ab1\n",
            "  Stored in directory: /root/.cache/pip/wheels/2e/2d/23/1bfc95db984ed3ecbf6764167dc7526d0ab521cf9a9852544e\n",
            "Successfully built chess\n",
            "Installing collected packages: chess\n",
            "Successfully installed chess-1.11.1\n"
          ]
        }
      ]
    },
    {
      "cell_type": "code",
      "source": [
        "import os\n",
        "import numpy as np # type: ignore\n",
        "import time\n",
        "import torch\n",
        "import torch.nn as nn # type: ignore\n",
        "import torch.optim as optim # type: ignore\n",
        "from torch.utils.data import DataLoader # type: ignore\n",
        "from chess import pgn # type: ignore\n",
        "from tqdm import tqdm # type: ignore\n"
      ],
      "metadata": {
        "id": "JDfVMK8ULFsK"
      },
      "execution_count": 7,
      "outputs": []
    },
    {
      "cell_type": "code",
      "source": [
        "# def load_pgn(file_path):\n",
        "#     games = []\n",
        "#     with open(file_path, 'r') as pgn_file:\n",
        "#         while True:\n",
        "#             game = pgn.read_game(pgn_file)\n",
        "#             if game is None:\n",
        "#                 break\n",
        "#             games.append(game)\n",
        "#     return games\n",
        "\n",
        "# files = [file for file in os.listdir(\"Lichess Elite Database\") if file.endswith(\".pgn\")]\n",
        "# LIMIT_OF_FILES = min(len(files), 28)\n",
        "# games = []\n",
        "# i = 1\n",
        "# for file in tqdm(files):\n",
        "#     games.extend(load_pgn(f\"Lichess Elite Database/{file}\"))\n",
        "#     if i >= LIMIT_OF_FILES:\n",
        "#         break\n",
        "#     i += 1\n",
        "with open(\"arch.pgn\", 'r') as pgn_file:\n",
        "    games = []\n",
        "    count = 0\n",
        "    start = time.time()\n",
        "    while True:\n",
        "        # start = time.time()\n",
        "        game = pgn.read_game(pgn_file)\n",
        "        print(f\"\\rCount games: {count} Time taken to read: {time.time() - start}s\", end = '', flush=True)\n",
        "        if game is None or count > 10000:\n",
        "            break\n",
        "        games.append(game)\n",
        "        count += 1"
      ],
      "metadata": {
        "colab": {
          "base_uri": "https://localhost:8080/"
        },
        "id": "4XL7fdsbNzfo",
        "outputId": "54951916-833d-47dd-f12c-a69141e42c03"
      },
      "execution_count": 8,
      "outputs": [
        {
          "output_type": "stream",
          "name": "stdout",
          "text": [
            "Count games: 10001 Time taken to read: 40.95614314079285s"
          ]
        }
      ]
    },
    {
      "cell_type": "code",
      "source": [
        "games = games[:-1]\n",
        "print(f\"GAMES PARSED: {len(games)}\")"
      ],
      "metadata": {
        "colab": {
          "base_uri": "https://localhost:8080/"
        },
        "id": "dEhAqludN-RV",
        "outputId": "c4eea5de-9a0d-48f8-f173-7b950cb94c56"
      },
      "execution_count": 9,
      "outputs": [
        {
          "output_type": "stream",
          "name": "stdout",
          "text": [
            "GAMES PARSED: 10000\n"
          ]
        }
      ]
    },
    {
      "cell_type": "code",
      "source": [
        "from auxiliary_func import create_input_for_nn, encode_moves\n",
        "### add train test split\n",
        "\n",
        "X, y = create_input_for_nn(games)\n",
        "\n",
        "print(f\"NUMBER OF SAMPLES: {len(y)}\")\n",
        "\n",
        "y, move_to_int = encode_moves(y)\n",
        "num_classes = len(move_to_int)\n",
        "\n",
        "X = torch.tensor(X, dtype=torch.float32)\n",
        "y = torch.tensor(y, dtype=torch.long)"
      ],
      "metadata": {
        "id": "QiUZf7IcObOV",
        "colab": {
          "base_uri": "https://localhost:8080/"
        },
        "outputId": "dab0a5c2-2be4-44bf-e5fb-55fef8125df5"
      },
      "execution_count": 10,
      "outputs": [
        {
          "output_type": "stream",
          "name": "stderr",
          "text": [
            "100%|██████████| 10000/10000 [01:21<00:00, 122.89it/s]\n"
          ]
        },
        {
          "output_type": "stream",
          "name": "stdout",
          "text": [
            "NUMBER OF SAMPLES: 654122\n"
          ]
        }
      ]
    },
    {
      "cell_type": "code",
      "source": [
        "from dataset import ChessDataset\n",
        "from model import ChessModel\n",
        "\n",
        "# Create Dataset and DataLoader\n",
        "dataset = ChessDataset(X, y)\n",
        "dataloader = DataLoader(dataset, batch_size=64, shuffle=True)\n",
        "\n",
        "# Check for GPU\n",
        "device = torch.device(\"cuda\" if torch.cuda.is_available() else \"cpu\")\n",
        "print(f'Using device: {device}')\n",
        "\n",
        "# Model Initialization\n",
        "model = ChessModel(num_classes=num_classes).to(device)\n",
        "criterion = nn.CrossEntropyLoss()\n",
        "optimizer = optim.Adam(model.parameters(), lr=0.0001)"
      ],
      "metadata": {
        "id": "05V2H41nPDUT",
        "colab": {
          "base_uri": "https://localhost:8080/"
        },
        "outputId": "232a091a-c881-411a-d209-e49346117d36"
      },
      "execution_count": 11,
      "outputs": [
        {
          "output_type": "stream",
          "name": "stdout",
          "text": [
            "Using device: cpu\n"
          ]
        }
      ]
    },
    {
      "cell_type": "code",
      "source": [
        "# num_epochs = 50\n",
        "# for epoch in range(num_epochs):\n",
        "#     start_time = time.time()\n",
        "#     model.train()\n",
        "#     running_loss = 0.0\n",
        "#     for inputs, labels in tqdm(dataloader):\n",
        "#         inputs, labels = inputs.to(device), labels.to(device)  # Move data to GPU\n",
        "#         optimizer.zero_grad()\n",
        "\n",
        "#         outputs = model(inputs)  # Raw logits\n",
        "\n",
        "#         # Compute loss\n",
        "#         loss = criterion(outputs, labels)\n",
        "#         loss.backward()\n",
        "\n",
        "#         # Gradient clipping\n",
        "#         torch.nn.utils.clip_grad_norm_(model.parameters(), max_norm=1.0)\n",
        "\n",
        "#         optimizer.step()\n",
        "#         running_loss += loss.item()\n",
        "#     end_time = time.time()\n",
        "#     epoch_time = end_time - start_time\n",
        "#     minutes: int = int(epoch_time // 60)\n",
        "#     seconds: int = int(epoch_time) - minutes * 60\n",
        "#     print(f'Epoch {epoch + 1 + 50}/{num_epochs + 1 + 50}, Loss: {running_loss / len(dataloader):.4f}, Time: {minutes}m{seconds}s')\n",
        "\n",
        "\n",
        "num_epochs = 50\n",
        "start_epoch = 0  # Can be changed if resuming training from a specific epoch\n",
        "losses = []  # To store losses for plotting\n",
        "\n",
        "for epoch in range(start_epoch, start_epoch + num_epochs):\n",
        "    start_time = time.time()\n",
        "    model.train()\n",
        "    running_loss = 0.0\n",
        "\n",
        "    # Track correct predictions for accuracy calculation\n",
        "    correct = 0\n",
        "    total = 0\n",
        "\n",
        "    for inputs, labels in tqdm(dataloader, desc=f'Epoch {epoch + 1}/{start_epoch + num_epochs}'):\n",
        "        inputs, labels = inputs.to(device), labels.to(device)  # Move data to GPU\n",
        "        optimizer.zero_grad()\n",
        "\n",
        "        outputs = model(inputs)  # Raw logits\n",
        "\n",
        "        # Compute loss\n",
        "        loss = criterion(outputs, labels)\n",
        "        loss.backward()\n",
        "\n",
        "        # Gradient clipping\n",
        "        torch.nn.utils.clip_grad_norm_(model.parameters(), max_norm=1.0)\n",
        "\n",
        "        optimizer.step()\n",
        "        running_loss += loss.item()\n",
        "\n",
        "        # Calculate accuracy\n",
        "        _, predicted = torch.max(outputs.data, 1)\n",
        "        total += labels.size(0)\n",
        "        correct += (predicted == labels).sum().item()\n",
        "\n",
        "    # Calculate epoch loss and accuracy\n",
        "    epoch_loss = running_loss / len(dataloader)\n",
        "    epoch_accuracy = 100 * correct / total\n",
        "    losses.append(epoch_loss)  # Store loss for plotting\n",
        "\n",
        "    # Measure epoch time\n",
        "    end_time = time.time()\n",
        "    epoch_time = end_time - start_time\n",
        "    minutes = int(epoch_time // 60)\n",
        "    seconds = int(epoch_time % 60)\n",
        "\n",
        "    # Print epoch statistics\n",
        "    print(f'Epoch {epoch + 1}/{start_epoch + num_epochs}, '\n",
        "          f'Loss: {epoch_loss:.4f}, '\n",
        "          f'Accuracy: {epoch_accuracy:.2f}%, '\n",
        "          f'Time: {minutes}m{seconds}s')\n",
        "\n",
        "    # Optionally update the learning rate scheduler\n",
        "    # scheduler.step() if using a scheduler\n",
        "\n",
        "    ### TODO: add test part, check learning rate, add saving best.pt and last.pt\n"
      ],
      "metadata": {
        "id": "NTHgfzEfPTxd",
        "colab": {
          "base_uri": "https://localhost:8080/"
        },
        "outputId": "086c502c-b0ff-4e43-bb2c-71d9fe26c867"
      },
      "execution_count": null,
      "outputs": [
        {
          "output_type": "stream",
          "name": "stderr",
          "text": [
            "Epoch 1/50: 100%|██████████| 10221/10221 [02:18<00:00, 74.02it/s]\n"
          ]
        },
        {
          "output_type": "stream",
          "name": "stdout",
          "text": [
            "Epoch 1/50, Loss: 4.5410, Accuracy: 13.91%, Time: 2m18s\n"
          ]
        },
        {
          "output_type": "stream",
          "name": "stderr",
          "text": [
            "Epoch 2/50: 100%|██████████| 10221/10221 [02:18<00:00, 73.84it/s]\n"
          ]
        },
        {
          "output_type": "stream",
          "name": "stdout",
          "text": [
            "Epoch 2/50, Loss: 3.4113, Accuracy: 21.07%, Time: 2m18s\n"
          ]
        },
        {
          "output_type": "stream",
          "name": "stderr",
          "text": [
            "Epoch 3/50: 100%|██████████| 10221/10221 [02:19<00:00, 73.33it/s]\n"
          ]
        },
        {
          "output_type": "stream",
          "name": "stdout",
          "text": [
            "Epoch 3/50, Loss: 3.0192, Accuracy: 25.52%, Time: 2m19s\n"
          ]
        },
        {
          "output_type": "stream",
          "name": "stderr",
          "text": [
            "Epoch 4/50: 100%|██████████| 10221/10221 [02:17<00:00, 74.56it/s]\n"
          ]
        },
        {
          "output_type": "stream",
          "name": "stdout",
          "text": [
            "Epoch 4/50, Loss: 2.7779, Accuracy: 28.80%, Time: 2m17s\n"
          ]
        },
        {
          "output_type": "stream",
          "name": "stderr",
          "text": [
            "Epoch 5/50: 100%|██████████| 10221/10221 [02:15<00:00, 75.69it/s]\n"
          ]
        },
        {
          "output_type": "stream",
          "name": "stdout",
          "text": [
            "Epoch 5/50, Loss: 2.6094, Accuracy: 31.38%, Time: 2m15s\n"
          ]
        },
        {
          "output_type": "stream",
          "name": "stderr",
          "text": [
            "Epoch 6/50: 100%|██████████| 10221/10221 [02:15<00:00, 75.27it/s]\n"
          ]
        },
        {
          "output_type": "stream",
          "name": "stdout",
          "text": [
            "Epoch 6/50, Loss: 2.4791, Accuracy: 33.54%, Time: 2m15s\n"
          ]
        },
        {
          "output_type": "stream",
          "name": "stderr",
          "text": [
            "Epoch 7/50: 100%|██████████| 10221/10221 [02:21<00:00, 72.18it/s]\n"
          ]
        },
        {
          "output_type": "stream",
          "name": "stdout",
          "text": [
            "Epoch 7/50, Loss: 2.3707, Accuracy: 35.41%, Time: 2m21s\n"
          ]
        },
        {
          "output_type": "stream",
          "name": "stderr",
          "text": [
            "Epoch 8/50: 100%|██████████| 10221/10221 [02:22<00:00, 71.92it/s]\n"
          ]
        },
        {
          "output_type": "stream",
          "name": "stdout",
          "text": [
            "Epoch 8/50, Loss: 2.2753, Accuracy: 37.23%, Time: 2m22s\n"
          ]
        },
        {
          "output_type": "stream",
          "name": "stderr",
          "text": [
            "Epoch 9/50: 100%|██████████| 10221/10221 [02:24<00:00, 70.91it/s]\n"
          ]
        },
        {
          "output_type": "stream",
          "name": "stdout",
          "text": [
            "Epoch 9/50, Loss: 2.1896, Accuracy: 38.93%, Time: 2m24s\n"
          ]
        },
        {
          "output_type": "stream",
          "name": "stderr",
          "text": [
            "Epoch 10/50: 100%|██████████| 10221/10221 [02:24<00:00, 70.90it/s]\n"
          ]
        },
        {
          "output_type": "stream",
          "name": "stdout",
          "text": [
            "Epoch 10/50, Loss: 2.1102, Accuracy: 40.56%, Time: 2m24s\n"
          ]
        },
        {
          "output_type": "stream",
          "name": "stderr",
          "text": [
            "Epoch 11/50: 100%|██████████| 10221/10221 [02:23<00:00, 71.11it/s]\n"
          ]
        },
        {
          "output_type": "stream",
          "name": "stdout",
          "text": [
            "Epoch 11/50, Loss: 2.0371, Accuracy: 42.18%, Time: 2m23s\n"
          ]
        },
        {
          "output_type": "stream",
          "name": "stderr",
          "text": [
            "Epoch 12/50: 100%|██████████| 10221/10221 [02:23<00:00, 71.06it/s]\n"
          ]
        },
        {
          "output_type": "stream",
          "name": "stdout",
          "text": [
            "Epoch 12/50, Loss: 1.9674, Accuracy: 43.70%, Time: 2m23s\n"
          ]
        },
        {
          "output_type": "stream",
          "name": "stderr",
          "text": [
            "Epoch 13/50: 100%|██████████| 10221/10221 [02:25<00:00, 70.44it/s]\n"
          ]
        },
        {
          "output_type": "stream",
          "name": "stdout",
          "text": [
            "Epoch 13/50, Loss: 1.9022, Accuracy: 45.20%, Time: 2m25s\n"
          ]
        },
        {
          "output_type": "stream",
          "name": "stderr",
          "text": [
            "Epoch 14/50:  47%|████▋     | 4765/10221 [01:07<01:26, 63.03it/s]"
          ]
        }
      ]
    },
    {
      "cell_type": "code",
      "source": [
        "import matplotlib.pyplot as plt\n",
        "\n",
        "plt.plot(losses)\n",
        "plt.xlabel('Epoch')\n",
        "plt.ylabel('Loss')\n",
        "plt.title('Training Loss Over Epochs')\n",
        "plt.show()"
      ],
      "metadata": {
        "id": "7_uPjtLGPUII"
      },
      "execution_count": null,
      "outputs": []
    },
    {
      "cell_type": "code",
      "source": [],
      "metadata": {
        "id": "GKuflcGIYS5C"
      },
      "execution_count": null,
      "outputs": []
    }
  ]
}