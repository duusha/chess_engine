{
  "nbformat": 4,
  "nbformat_minor": 0,
  "metadata": {
    "colab": {
      "provenance": [],
      "gpuType": "T4"
    },
    "kernelspec": {
      "name": "python3",
      "display_name": "Python 3"
    },
    "language_info": {
      "name": "python"
    }
  },
  "cells": [
    {
      "cell_type": "code",
      "source": [
        "!wget -O arch.pgn.zst https://database.lichess.org/standard/lichess_db_standard_rated_2015-09.pgn.zst"
      ],
      "metadata": {
        "colab": {
          "base_uri": "https://localhost:8080/"
        },
        "id": "MyPZIfE2IKMe",
        "outputId": "497ec718-1cc9-480a-fd05-82ff0c21ab02"
      },
      "execution_count": 1,
      "outputs": [
        {
          "output_type": "stream",
          "name": "stdout",
          "text": [
            "--2024-10-09 16:59:17--  https://database.lichess.org/standard/lichess_db_standard_rated_2015-09.pgn.zst\n",
            "Resolving database.lichess.org (database.lichess.org)... 141.95.66.62, 2001:41d0:700:5e3e::\n",
            "Connecting to database.lichess.org (database.lichess.org)|141.95.66.62|:443... connected.\n",
            "HTTP request sent, awaiting response... 200 OK\n",
            "Length: 547459020 (522M) [application/octet-stream]\n",
            "Saving to: ‘arch.pgn.zst’\n",
            "\n",
            "arch.pgn.zst        100%[===================>] 522.10M  16.1MB/s    in 34s     \n",
            "\n",
            "2024-10-09 16:59:52 (15.4 MB/s) - ‘arch.pgn.zst’ saved [547459020/547459020]\n",
            "\n"
          ]
        }
      ]
    },
    {
      "cell_type": "code",
      "source": [
        "!apt-get install zstd"
      ],
      "metadata": {
        "colab": {
          "base_uri": "https://localhost:8080/"
        },
        "id": "RmyUQH-vITst",
        "outputId": "48861f56-8fa6-48a5-a7da-658fde6d1c49"
      },
      "execution_count": 2,
      "outputs": [
        {
          "output_type": "stream",
          "name": "stdout",
          "text": [
            "Reading package lists... Done\n",
            "Building dependency tree... Done\n",
            "Reading state information... Done\n",
            "The following NEW packages will be installed:\n",
            "  zstd\n",
            "0 upgraded, 1 newly installed, 0 to remove and 49 not upgraded.\n",
            "Need to get 603 kB of archives.\n",
            "After this operation, 1,695 kB of additional disk space will be used.\n",
            "Get:1 http://archive.ubuntu.com/ubuntu jammy/main amd64 zstd amd64 1.4.8+dfsg-3build1 [603 kB]\n",
            "Fetched 603 kB in 1s (481 kB/s)\n",
            "Selecting previously unselected package zstd.\n",
            "(Reading database ... 123621 files and directories currently installed.)\n",
            "Preparing to unpack .../zstd_1.4.8+dfsg-3build1_amd64.deb ...\n",
            "Unpacking zstd (1.4.8+dfsg-3build1) ...\n",
            "Setting up zstd (1.4.8+dfsg-3build1) ...\n",
            "Processing triggers for man-db (2.10.2-1) ...\n"
          ]
        }
      ]
    },
    {
      "cell_type": "code",
      "source": [
        "!unzstd arch.pgn.zst"
      ],
      "metadata": {
        "colab": {
          "base_uri": "https://localhost:8080/"
        },
        "id": "2R9xh8i3JsN5",
        "outputId": "ee82bf52-332b-4338-a508-0c8a0e03a9b2"
      },
      "execution_count": 3,
      "outputs": [
        {
          "output_type": "stream",
          "name": "stdout",
          "text": [
            "arch.pgn.zst        : 2903022236 bytes \n"
          ]
        }
      ]
    },
    {
      "cell_type": "code",
      "source": [
        "!wget https://github.com/Skripkon/chess-engine/raw/main/engines/torch/auxiliary_func.py\n",
        "!wget https://github.com/Skripkon/chess-engine/raw/main/engines/torch/dataset.py\n",
        "!wget https://github.com/Skripkon/chess-engine/raw/main/engines/torch/model.py\n",
        "\n"
      ],
      "metadata": {
        "colab": {
          "base_uri": "https://localhost:8080/"
        },
        "id": "kxxghH0hL-CP",
        "outputId": "074952fc-f606-4f4b-b34d-888344d9df56"
      },
      "execution_count": 4,
      "outputs": [
        {
          "output_type": "stream",
          "name": "stdout",
          "text": [
            "--2024-10-09 17:00:27--  https://github.com/Skripkon/chess-engine/raw/main/engines/torch/auxiliary_func.py\n",
            "Resolving github.com (github.com)... 140.82.112.3\n",
            "Connecting to github.com (github.com)|140.82.112.3|:443... connected.\n",
            "HTTP request sent, awaiting response... 302 Found\n",
            "Location: https://raw.githubusercontent.com/Skripkon/chess-engine/main/engines/torch/auxiliary_func.py [following]\n",
            "--2024-10-09 17:00:27--  https://raw.githubusercontent.com/Skripkon/chess-engine/main/engines/torch/auxiliary_func.py\n",
            "Resolving raw.githubusercontent.com (raw.githubusercontent.com)... 185.199.108.133, 185.199.109.133, 185.199.110.133, ...\n",
            "Connecting to raw.githubusercontent.com (raw.githubusercontent.com)|185.199.108.133|:443... connected.\n",
            "HTTP request sent, awaiting response... 200 OK\n",
            "Length: 1414 (1.4K) [text/plain]\n",
            "Saving to: ‘auxiliary_func.py’\n",
            "\n",
            "auxiliary_func.py   100%[===================>]   1.38K  --.-KB/s    in 0s      \n",
            "\n",
            "2024-10-09 17:00:27 (17.7 MB/s) - ‘auxiliary_func.py’ saved [1414/1414]\n",
            "\n",
            "--2024-10-09 17:00:27--  https://github.com/Skripkon/chess-engine/raw/main/engines/torch/dataset.py\n",
            "Resolving github.com (github.com)... 140.82.113.3\n",
            "Connecting to github.com (github.com)|140.82.113.3|:443... connected.\n",
            "HTTP request sent, awaiting response... 302 Found\n",
            "Location: https://raw.githubusercontent.com/Skripkon/chess-engine/main/engines/torch/dataset.py [following]\n",
            "--2024-10-09 17:00:28--  https://raw.githubusercontent.com/Skripkon/chess-engine/main/engines/torch/dataset.py\n",
            "Resolving raw.githubusercontent.com (raw.githubusercontent.com)... 185.199.108.133, 185.199.109.133, 185.199.110.133, ...\n",
            "Connecting to raw.githubusercontent.com (raw.githubusercontent.com)|185.199.108.133|:443... connected.\n",
            "HTTP request sent, awaiting response... 200 OK\n",
            "Length: 277 [text/plain]\n",
            "Saving to: ‘dataset.py’\n",
            "\n",
            "dataset.py          100%[===================>]     277  --.-KB/s    in 0s      \n",
            "\n",
            "2024-10-09 17:00:28 (13.7 MB/s) - ‘dataset.py’ saved [277/277]\n",
            "\n",
            "--2024-10-09 17:00:28--  https://github.com/Skripkon/chess-engine/raw/main/engines/torch/model.py\n",
            "Resolving github.com (github.com)... 140.82.112.4\n",
            "Connecting to github.com (github.com)|140.82.112.4|:443... connected.\n",
            "HTTP request sent, awaiting response... 302 Found\n",
            "Location: https://raw.githubusercontent.com/Skripkon/chess-engine/main/engines/torch/model.py [following]\n",
            "--2024-10-09 17:00:28--  https://raw.githubusercontent.com/Skripkon/chess-engine/main/engines/torch/model.py\n",
            "Resolving raw.githubusercontent.com (raw.githubusercontent.com)... 185.199.108.133, 185.199.109.133, 185.199.110.133, ...\n",
            "Connecting to raw.githubusercontent.com (raw.githubusercontent.com)|185.199.108.133|:443... connected.\n",
            "HTTP request sent, awaiting response... 200 OK\n",
            "Length: 1025 (1.0K) [text/plain]\n",
            "Saving to: ‘model.py’\n",
            "\n",
            "model.py            100%[===================>]   1.00K  --.-KB/s    in 0s      \n",
            "\n",
            "2024-10-09 17:00:29 (38.2 MB/s) - ‘model.py’ saved [1025/1025]\n",
            "\n"
          ]
        }
      ]
    },
    {
      "cell_type": "code",
      "source": [
        "!pip install chess"
      ],
      "metadata": {
        "colab": {
          "base_uri": "https://localhost:8080/"
        },
        "id": "Pzgg2QSBN3Lf",
        "outputId": "01a011c3-04de-4039-f927-77c927558b24"
      },
      "execution_count": 5,
      "outputs": [
        {
          "output_type": "stream",
          "name": "stdout",
          "text": [
            "Collecting chess\n",
            "  Downloading chess-1.11.0.tar.gz (156 kB)\n",
            "\u001b[?25l     \u001b[90m━━━━━━━━━━━━━━━━━━━━━━━━━━━━━━━━━━━━━━━━\u001b[0m \u001b[32m0.0/156.4 kB\u001b[0m \u001b[31m?\u001b[0m eta \u001b[36m-:--:--\u001b[0m\r\u001b[2K     \u001b[90m━━━━━━━━━━━━━━━━━━━━━━━━━━━━━━━━━━━━━━━━\u001b[0m \u001b[32m156.4/156.4 kB\u001b[0m \u001b[31m4.9 MB/s\u001b[0m eta \u001b[36m0:00:00\u001b[0m\n",
            "\u001b[?25h  Preparing metadata (setup.py) ... \u001b[?25l\u001b[?25hdone\n",
            "Building wheels for collected packages: chess\n",
            "  Building wheel for chess (setup.py) ... \u001b[?25l\u001b[?25hdone\n",
            "  Created wheel for chess: filename=chess-1.11.0-py3-none-any.whl size=148469 sha256=a684b49ea40d04ad223907ba29f2cbb3f90da7eea34f3e7a34aec974af841127\n",
            "  Stored in directory: /root/.cache/pip/wheels/46/0b/07/0a760d1eb7bd47ad727299125255ca757eb468db2d0f41db57\n",
            "Successfully built chess\n",
            "Installing collected packages: chess\n",
            "Successfully installed chess-1.11.0\n"
          ]
        }
      ]
    },
    {
      "cell_type": "code",
      "source": [
        "import os\n",
        "import numpy as np # type: ignore\n",
        "import time\n",
        "import torch\n",
        "import torch.nn as nn # type: ignore\n",
        "import torch.optim as optim # type: ignore\n",
        "from torch.utils.data import DataLoader # type: ignore\n",
        "from chess import pgn # type: ignore\n",
        "from tqdm import tqdm # type: ignore\n"
      ],
      "metadata": {
        "id": "JDfVMK8ULFsK"
      },
      "execution_count": 6,
      "outputs": []
    },
    {
      "cell_type": "code",
      "source": [
        "# def load_pgn(file_path):\n",
        "#     games = []\n",
        "#     with open(file_path, 'r') as pgn_file:\n",
        "#         while True:\n",
        "#             game = pgn.read_game(pgn_file)\n",
        "#             if game is None:\n",
        "#                 break\n",
        "#             games.append(game)\n",
        "#     return games\n",
        "\n",
        "# files = [file for file in os.listdir(\"Lichess Elite Database\") if file.endswith(\".pgn\")]\n",
        "# LIMIT_OF_FILES = min(len(files), 28)\n",
        "# games = []\n",
        "# i = 1\n",
        "# for file in tqdm(files):\n",
        "#     games.extend(load_pgn(f\"Lichess Elite Database/{file}\"))\n",
        "#     if i >= LIMIT_OF_FILES:\n",
        "#         break\n",
        "#     i += 1\n",
        "with open(\"arch.pgn\", 'r') as pgn_file:\n",
        "    games = []\n",
        "    count = 0\n",
        "    start = time.time()\n",
        "    while True:\n",
        "        # start = time.time()\n",
        "        game = pgn.read_game(pgn_file)\n",
        "        count += 1\n",
        "        print(f\"\\rCount games: {count} Time taken to read: {time.time() - start}s\", end = '', flush=True)\n",
        "        if game is None or count > 10000:\n",
        "            break\n",
        "        games.append(game)"
      ],
      "metadata": {
        "colab": {
          "base_uri": "https://localhost:8080/"
        },
        "id": "4XL7fdsbNzfo",
        "outputId": "85c599fc-5a84-4cbe-ebf9-a44384b831f1"
      },
      "execution_count": 7,
      "outputs": [
        {
          "output_type": "stream",
          "name": "stdout",
          "text": [
            "Count games: 10001 Time taken to read: 0.0020973682403564453s"
          ]
        }
      ]
    },
    {
      "cell_type": "code",
      "source": [
        "games = games[:-1]\n",
        "print(f\"GAMES PARSED: {len(games)}\")"
      ],
      "metadata": {
        "colab": {
          "base_uri": "https://localhost:8080/"
        },
        "id": "dEhAqludN-RV",
        "outputId": "e362c7f1-25bd-4401-ee27-686d847d12ea"
      },
      "execution_count": 8,
      "outputs": [
        {
          "output_type": "stream",
          "name": "stdout",
          "text": [
            "GAMES PARSED: 9999\n"
          ]
        }
      ]
    },
    {
      "cell_type": "code",
      "source": [
        "from auxiliary_func import create_input_for_nn, encode_moves\n",
        "\n",
        "X, y = create_input_for_nn(games)\n",
        "\n",
        "print(f\"NUMBER OF SAMPLES: {len(y)}\")\n",
        "\n",
        "y, move_to_int = encode_moves(y)\n",
        "num_classes = len(move_to_int)\n",
        "\n",
        "X = torch.tensor(X, dtype=torch.float32)\n",
        "y = torch.tensor(y, dtype=torch.long)"
      ],
      "metadata": {
        "id": "QiUZf7IcObOV",
        "colab": {
          "base_uri": "https://localhost:8080/"
        },
        "outputId": "50de02d1-a26f-4ac3-b91c-3ddc4d07a09f"
      },
      "execution_count": 9,
      "outputs": [
        {
          "output_type": "stream",
          "name": "stderr",
          "text": [
            "100%|██████████| 9999/9999 [02:45<00:00, 60.52it/s]\n"
          ]
        },
        {
          "output_type": "stream",
          "name": "stdout",
          "text": [
            "NUMBER OF SAMPLES: 654057\n"
          ]
        }
      ]
    },
    {
      "cell_type": "code",
      "source": [
        "from dataset import ChessDataset\n",
        "from model import ChessModel\n",
        "\n",
        "# Create Dataset and DataLoader\n",
        "dataset = ChessDataset(X, y)\n",
        "dataloader = DataLoader(dataset, batch_size=64, shuffle=True)\n",
        "\n",
        "# Check for GPU\n",
        "device = torch.device(\"cuda\" if torch.cuda.is_available() else \"cpu\")\n",
        "print(f'Using device: {device}')\n",
        "\n",
        "# Model Initialization\n",
        "model = ChessModel(num_classes=num_classes).to(device)\n",
        "criterion = nn.CrossEntropyLoss()\n",
        "optimizer = optim.Adam(model.parameters(), lr=0.0001)"
      ],
      "metadata": {
        "id": "05V2H41nPDUT",
        "colab": {
          "base_uri": "https://localhost:8080/"
        },
        "outputId": "ddb78951-0845-4eaf-a565-a28bbd0047f5"
      },
      "execution_count": 11,
      "outputs": [
        {
          "output_type": "stream",
          "name": "stdout",
          "text": [
            "Using device: cpu\n"
          ]
        }
      ]
    },
    {
      "cell_type": "code",
      "source": [
        "# num_epochs = 50\n",
        "# for epoch in range(num_epochs):\n",
        "#     start_time = time.time()\n",
        "#     model.train()\n",
        "#     running_loss = 0.0\n",
        "#     for inputs, labels in tqdm(dataloader):\n",
        "#         inputs, labels = inputs.to(device), labels.to(device)  # Move data to GPU\n",
        "#         optimizer.zero_grad()\n",
        "\n",
        "#         outputs = model(inputs)  # Raw logits\n",
        "\n",
        "#         # Compute loss\n",
        "#         loss = criterion(outputs, labels)\n",
        "#         loss.backward()\n",
        "\n",
        "#         # Gradient clipping\n",
        "#         torch.nn.utils.clip_grad_norm_(model.parameters(), max_norm=1.0)\n",
        "\n",
        "#         optimizer.step()\n",
        "#         running_loss += loss.item()\n",
        "#     end_time = time.time()\n",
        "#     epoch_time = end_time - start_time\n",
        "#     minutes: int = int(epoch_time // 60)\n",
        "#     seconds: int = int(epoch_time) - minutes * 60\n",
        "#     print(f'Epoch {epoch + 1 + 50}/{num_epochs + 1 + 50}, Loss: {running_loss / len(dataloader):.4f}, Time: {minutes}m{seconds}s')\n",
        "\n",
        "\n",
        "num_epochs = 50\n",
        "start_epoch = 0  # Can be changed if resuming training from a specific epoch\n",
        "losses = []  # To store losses for plotting\n",
        "\n",
        "for epoch in range(start_epoch, start_epoch + num_epochs):\n",
        "    start_time = time.time()\n",
        "    model.train()\n",
        "    running_loss = 0.0\n",
        "\n",
        "    # Track correct predictions for accuracy calculation\n",
        "    correct = 0\n",
        "    total = 0\n",
        "\n",
        "    for inputs, labels in tqdm(dataloader, desc=f'Epoch {epoch + 1}/{start_epoch + num_epochs}'):\n",
        "        inputs, labels = inputs.to(device), labels.to(device)  # Move data to GPU\n",
        "        optimizer.zero_grad()\n",
        "\n",
        "        outputs = model(inputs)  # Raw logits\n",
        "\n",
        "        # Compute loss\n",
        "        loss = criterion(outputs, labels)\n",
        "        loss.backward()\n",
        "\n",
        "        # Gradient clipping\n",
        "        torch.nn.utils.clip_grad_norm_(model.parameters(), max_norm=1.0)\n",
        "\n",
        "        optimizer.step()\n",
        "        running_loss += loss.item()\n",
        "\n",
        "        # Calculate accuracy\n",
        "        _, predicted = torch.max(outputs.data, 1)\n",
        "        total += labels.size(0)\n",
        "        correct += (predicted == labels).sum().item()\n",
        "\n",
        "    # Calculate epoch loss and accuracy\n",
        "    epoch_loss = running_loss / len(dataloader)\n",
        "    epoch_accuracy = 100 * correct / total\n",
        "    losses.append(epoch_loss)  # Store loss for plotting\n",
        "\n",
        "    # Measure epoch time\n",
        "    end_time = time.time()\n",
        "    epoch_time = end_time - start_time\n",
        "    minutes = int(epoch_time // 60)\n",
        "    seconds = int(epoch_time % 60)\n",
        "\n",
        "    # Print epoch statistics\n",
        "    print(f'Epoch {epoch + 1}/{start_epoch + num_epochs}, '\n",
        "          f'Loss: {epoch_loss:.4f}, '\n",
        "          f'Accuracy: {epoch_accuracy:.2f}%, '\n",
        "          f'Time: {minutes}m{seconds}s')\n",
        "\n",
        "    # Optionally update the learning rate scheduler\n",
        "    # scheduler.step() if using a scheduler\n"
      ],
      "metadata": {
        "id": "NTHgfzEfPTxd",
        "colab": {
          "base_uri": "https://localhost:8080/"
        },
        "outputId": "a3e3ea4a-dd01-4fd5-e1c8-d6e622e7b2cc"
      },
      "execution_count": null,
      "outputs": [
        {
          "output_type": "stream",
          "name": "stderr",
          "text": [
            "Epoch 1/50:  41%|████      | 4145/10220 [08:52<15:06,  6.70it/s]"
          ]
        }
      ]
    },
    {
      "cell_type": "code",
      "source": [
        "import matplotlib.pyplot as plt\n",
        "\n",
        "plt.plot(losses)\n",
        "plt.xlabel('Epoch')\n",
        "plt.ylabel('Loss')\n",
        "plt.title('Training Loss Over Epochs')\n",
        "plt.show()"
      ],
      "metadata": {
        "id": "7_uPjtLGPUII"
      },
      "execution_count": null,
      "outputs": []
    }
  ]
}